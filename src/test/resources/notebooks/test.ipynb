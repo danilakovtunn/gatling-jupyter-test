{
 "cells": [
  {
   "cell_type": "code",
   "execution_count": 8,
   "id": "4d26e35f-295a-4c3b-98aa-93bea8c1ea5e",
   "metadata": {},
   "outputs": [
    {
     "name": "stdout",
     "output_type": "stream",
     "text": [
      "1123\n",
      "qq\n"
     ]
    }
   ],
   "source": [
    "print(1123)\n",
    "print('qq')\n",
    "print('123')\n",
    "\n",
    "for i in range(5):\n",
    "    print('qq')\n",
    "    print('123')\n",
    "1234"
   ]
  },
  {
   "cell_type": "code",
   "execution_count": 10,
   "id": "f171df24-2c26-42a4-8d77-91a78226fd20",
   "metadata": {},
   "outputs": [
    {
     "data": {
      "text/plain": [
       "2"
      ]
     },
     "execution_count": 10,
     "metadata": {},
     "output_type": "execute_result"
    }
   ],
   "source": [
    "5//2"
   ]
  },
  {
   "cell_type": "code",
   "execution_count": 11,
   "id": "2e3b9dac-0a30-4efd-a33c-3a0488198a9c",
   "metadata": {},
   "outputs": [
    {
     "data": {
      "text/plain": [
       "1522740"
      ]
     },
     "execution_count": 11,
     "metadata": {},
     "output_type": "execute_result"
    }
   ],
   "source": [
    "12380 * 123 // 1"
   ]
  },
  {
   "cell_type": "code",
   "execution_count": 12,
   "id": "59cadc20-fbaa-41c6-9c13-b282acb789c2",
   "metadata": {},
   "outputs": [
    {
     "name": "stdout",
     "output_type": "stream",
     "text": [
      "run.sh\tUntitled1.ipynb  Untitled.ipynb\n"
     ]
    }
   ],
   "source": [
    "!ls"
   ]
  },
  {
   "cell_type": "code",
   "execution_count": 13,
   "id": "640768f4-1472-4422-8c02-b88e9846918f",
   "metadata": {},
   "outputs": [],
   "source": [
    "!sleep 1"
   ]
  },
  {
   "cell_type": "code",
   "execution_count": 15,
   "id": "3d280d61-0e7f-4727-bfaa-97d25884e569",
   "metadata": {},
   "outputs": [
    {
     "name": "stdout",
     "output_type": "stream",
     "text": [
      "123\n",
      "\n"
     ]
    }
   ],
   "source": [
    "print('123\\n')"
   ]
  },
  {
   "cell_type": "code",
   "execution_count": null,
   "id": "e5fb08a6-f457-43b9-96ed-31428bbf2559",
   "metadata": {},
   "outputs": [],
   "source": [
    "print(\"123\")"
   ]
  }
 ],
 "metadata": {
  "kernelspec": {
   "display_name": "Python 3 (ipykernel)",
   "language": "python",
   "name": "python3"
  },
  "language_info": {
   "codemirror_mode": {
    "name": "ipython",
    "version": 3
   },
   "file_extension": ".py",
   "mimetype": "text/x-python",
   "name": "python",
   "nbconvert_exporter": "python",
   "pygments_lexer": "ipython3",
   "version": "3.10.6"
  },
  "vscode": {
   "interpreter": {
    "hash": "dcf7d55957358e254f583eb007ea21cccccdef24d5f9fe80af8b60cbe614d5c0"
   }
  }
 },
 "nbformat": 4,
 "nbformat_minor": 5
}
