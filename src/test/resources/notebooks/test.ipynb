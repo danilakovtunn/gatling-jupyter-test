{
 "cells": [
  {
   "cell_type": "code",
   "execution_count": null,
   "id": "4d26e35f-295a-4c3b-98aa-93bea8c1ea5e",
   "metadata": {},
   "outputs": [],
   "source": [
    "import ray"
   ]
  },
  {
   "cell_type": "code",
   "execution_count": null,
   "id": "f171df24-2c26-42a4-8d77-91a78226fd20",
   "metadata": {},
   "outputs": [],
   "source": [
    "@ray.remote\n",
    "def reques():\n",
    "    import os\n",
    "    os.system('pip install tensorflow-gpu')\n",
    "    os.system('pip install ai-benchmark')"
   ]
  },
  {
   "cell_type": "code",
   "execution_count": null,
   "id": "2e3b9dac-0a30-4efd-a33c-3a0488198a9c",
   "metadata": {},
   "outputs": [],
   "source": [
    "@ray.remote\n",
    "def test():\n",
    "    from ai_benchmark import AIBenchmark\n",
    "    benchmark = AIBenchmark()\n",
    "    results = benchmark.run()"
   ]
  },
  {
   "cell_type": "code",
   "execution_count": null,
   "id": "59cadc20-fbaa-41c6-9c13-b282acb789c2",
   "metadata": {},
   "outputs": [],
   "source": [
    "print(ray.get(reques.remote()))\n",
    "print(ray.get(test.remote()))"
   ]
  }
 ],
 "metadata": {
  "kernelspec": {
   "display_name": "Python 3 (ipykernel)",
   "language": "python",
   "name": "python3"
  },
  "language_info": {
   "codemirror_mode": {
    "name": "ipython",
    "version": 3
   },
   "file_extension": ".py",
   "mimetype": "text/x-python",
   "name": "python",
   "nbconvert_exporter": "python",
   "pygments_lexer": "ipython3",
   "version": "3.10.6"
  },
  "vscode": {
   "interpreter": {
    "hash": "dcf7d55957358e254f583eb007ea21cccccdef24d5f9fe80af8b60cbe614d5c0"
   }
  }
 },
 "nbformat": 4,
 "nbformat_minor": 5
}
